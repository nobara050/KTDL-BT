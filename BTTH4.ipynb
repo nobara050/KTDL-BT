{
 "cells": [
  {
   "cell_type": "code",
   "execution_count": null,
   "metadata": {},
   "outputs": [],
   "source": [
    "import pandas as pd\n",
    "\n",
    "# Tạo DataFrame cho bảng dữ liệu\n",
    "data = {\n",
    "    'Troi': ['Trong', 'May', 'May', 'Mua', 'May', 'May', 'May', 'Trong'],\n",
    "    'Gio': ['O1', 'Bac', 'Bac', 'Trong', 'Bac', 'Mua', 'Mua', 'Kmua'],\n",
    "    'Ketqua': ['Nam', 'Kmua', 'Bac', 'Nam', 'Bac', 'Bac', 'Nam', 'Kmua']\n",
    "}\n",
    "df = pd.DataFrame(data)\n",
    "\n",
    "# Bước 1: Tìm tập xấp xỉ X có \"Ketqua\" là \"Mua\"\n",
    "target_value = 'Mua'\n",
    "X = df[df['Ketqua'] == target_value]\n",
    "print(\"Tập X gồm các đối tượng có 'Ketqua' là 'Mua':\")\n",
    "print(X)\n",
    "\n",
    "# Bước 2: Tính độ chính xác của tập thô\n",
    "# Độ chính xác = |X| / |D|, với |D| là tổng số đối tượng\n",
    "accuracy = len(X) / len(df)\n",
    "print(f\"\\nĐộ chính xác của tập thô: {accuracy:.2f}\")\n",
    "\n",
    "# Bước 3: Khảo sát sự phụ thuộc của C vào B\n",
    "# Đếm số lượng các đối tượng có các giá trị khác nhau trong B={Troi, Gio} và C={Ketqua}\n",
    "dependence_B_C = df.groupby(['Troi', 'Gio'])['Ketqua'].nunique()\n",
    "\n",
    "print(\"\\nSự phụ thuộc của C vào B:\")\n",
    "print(dependence_B_C)\n"
   ]
  }
 ],
 "metadata": {
  "language_info": {
   "name": "python"
  }
 },
 "nbformat": 4,
 "nbformat_minor": 2
}
